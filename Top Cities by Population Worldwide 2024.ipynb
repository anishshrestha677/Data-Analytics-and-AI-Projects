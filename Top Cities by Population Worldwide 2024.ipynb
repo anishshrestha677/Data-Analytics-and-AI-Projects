{
 "cells": [
  {
   "cell_type": "markdown",
   "id": "7202dd8d-dc43-4274-9091-a395149f0d51",
   "metadata": {},
   "source": [
    "# Top Cities by Population Worldwide 2024"
   ]
  },
  {
   "cell_type": "code",
   "execution_count": 10,
   "id": "fb79ebf6-09b5-4256-a812-5f14a5251573",
   "metadata": {},
   "outputs": [
    {
     "name": "stdout",
     "output_type": "stream",
     "text": [
      "     Unnamed: 0            City         Country  Population (2024)  \\\n",
      "0             0           Tokyo           Japan           37115035   \n",
      "1             1           Delhi           India           33807403   \n",
      "2             2        Shanghai           China           29867918   \n",
      "3             3           Dhaka      Bangladesh           23935652   \n",
      "4             4       Sao Paulo          Brazil           22806704   \n",
      "..          ...             ...             ...                ...   \n",
      "796         796       Bhavnagar           India             751493   \n",
      "797         797       Sheffield  United Kingdom             751303   \n",
      "798         798          Huambo          Angola             751297   \n",
      "799         799  Ribeirao Preto          Brazil             750174   \n",
      "800         800       Panzhihua           China             750036   \n",
      "\n",
      "     Population (2023)  Growth Rate  \n",
      "0             37194105      -0.0021  \n",
      "1             32941309       0.0263  \n",
      "2             29210808       0.0225  \n",
      "3             23209616       0.0313  \n",
      "4             22619736       0.0083  \n",
      "..                 ...          ...  \n",
      "796             737128       0.0195  \n",
      "797             745876       0.0073  \n",
      "798             727641       0.0325  \n",
      "799             742115       0.0109  \n",
      "800             738495       0.0156  \n",
      "\n",
      "[801 rows x 6 columns]\n"
     ]
    }
   ],
   "source": [
    "import numpy as np \n",
    "import pandas as pd\n",
    "df = pd.read_csv(\"population2024.csv\")\n",
    "print(df)"
   ]
  },
  {
   "cell_type": "code",
   "execution_count": null,
   "id": "397457fd-ea74-4afe-bbe5-de380bdafe8d",
   "metadata": {},
   "outputs": [],
   "source": []
  }
 ],
 "metadata": {
  "kernelspec": {
   "display_name": "Python 3 (ipykernel)",
   "language": "python",
   "name": "python3"
  },
  "language_info": {
   "codemirror_mode": {
    "name": "ipython",
    "version": 3
   },
   "file_extension": ".py",
   "mimetype": "text/x-python",
   "name": "python",
   "nbconvert_exporter": "python",
   "pygments_lexer": "ipython3",
   "version": "3.12.4"
  }
 },
 "nbformat": 4,
 "nbformat_minor": 5
}
